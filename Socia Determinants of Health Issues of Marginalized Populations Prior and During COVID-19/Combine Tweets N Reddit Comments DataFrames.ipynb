{
 "cells": [
  {
   "cell_type": "code",
   "execution_count": 1,
   "metadata": {},
   "outputs": [],
   "source": [
    "import pandas as pd\n",
    "import numpy as np\n",
    "import os"
   ]
  },
  {
   "cell_type": "code",
   "execution_count": 2,
   "metadata": {},
   "outputs": [],
   "source": [
    "eth_list = ['asians', 'blacks']"
   ]
  },
  {
   "cell_type": "code",
   "execution_count": 15,
   "metadata": {},
   "outputs": [],
   "source": [
    "def combine_data(eth):\n",
    "    period = ['pre','post']\n",
    "    citiesT = ['New York City','Los Angeles','Houston', 'Chicago','Philadelphia']\n",
    "    citiesP = ['nyc','LosAngeles','houston', 'chicago','philadelphia']\n",
    "    for p in period:\n",
    "        for (ct,cp) in zip(citiesT,citiesP):\n",
    "            df = pd.read_csv(os.getcwd() + r'/twitter_data/ACM_BCB/converted/%s_%s_%s.csv'%(eth,p,ct), encoding = 'utf-8')\n",
    "            df1 = pd.read_csv(os.getcwd() + r'/reddit_data/ACM_BCB/%s_%s_%s.csv'%(eth,p,cp), encoding = 'utf-8')\n",
    "            combined = pd.concat([df1, df], ignore_index=True, sort=True)\n",
    "            combined.sort_values('Date', inplace = True, ascending = False)\n",
    "            combined.to_csv(os.getcwd() + r'/ACM_BCB/combined_data/%s_%s_%s.csv'%(eth,p,cp), index=False, encoding = 'utf-8')"
   ]
  },
  {
   "cell_type": "code",
   "execution_count": 16,
   "metadata": {},
   "outputs": [],
   "source": [
    "for i in eth_list:\n",
    "    combine_data(i)"
   ]
  },
  {
   "cell_type": "code",
   "execution_count": null,
   "metadata": {},
   "outputs": [],
   "source": []
  },
  {
   "cell_type": "code",
   "execution_count": null,
   "metadata": {},
   "outputs": [],
   "source": []
  }
 ],
 "metadata": {
  "kernelspec": {
   "display_name": "Python 3",
   "language": "python",
   "name": "python3"
  },
  "language_info": {
   "codemirror_mode": {
    "name": "ipython",
    "version": 3
   },
   "file_extension": ".py",
   "mimetype": "text/x-python",
   "name": "python",
   "nbconvert_exporter": "python",
   "pygments_lexer": "ipython3",
   "version": "3.7.7"
  }
 },
 "nbformat": 4,
 "nbformat_minor": 4
}
