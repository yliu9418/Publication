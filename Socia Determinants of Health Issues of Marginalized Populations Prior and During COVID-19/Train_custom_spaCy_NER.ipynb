{
 "cells": [
  {
   "cell_type": "code",
   "execution_count": 1,
   "metadata": {},
   "outputs": [],
   "source": [
    "import os\n",
    "import spacy\n",
    "import pickle"
   ]
  },
  {
   "cell_type": "code",
   "execution_count": 2,
   "metadata": {},
   "outputs": [],
   "source": [
    "os.chdir('../')"
   ]
  },
  {
   "cell_type": "code",
   "execution_count": 3,
   "metadata": {},
   "outputs": [],
   "source": [
    "# New label to add\n",
    "LABEL = ['ECON', 'EDU','SCC','NBE','RETH']\n",
    "in_file = '/NER/sentence_samples/tsv/training_1.p'\n",
    "model = None\n",
    "new_model_name='Custom_NER_Model' #make sure to change when training another new\n",
    "n_iter=50\n",
    "\n",
    "# Training examples in the required format\n",
    "with open (os.getcwd() +  r'%s'%in_file, 'rb') as fp:\n",
    "    TRAIN_DATA = pickle.load(fp)"
   ]
  },
  {
   "cell_type": "code",
   "execution_count": 4,
   "metadata": {},
   "outputs": [
    {
     "name": "stdout",
     "output_type": "stream",
     "text": [
      "Created blank 'en' model\n"
     ]
    }
   ],
   "source": [
    "if model is not None:\n",
    "    nlp = spacy.load(model)  # load existing spacy model\n",
    "    print(\"Loaded model '%s'\" % model)\n",
    "else:\n",
    "    nlp = spacy.blank('en')  # create blank Language class\n",
    "    print(\"Created blank 'en' model\")\n",
    "if 'ner' not in nlp.pipe_names:\n",
    "    ner = nlp.add_pipe('ner')\n",
    "else:\n",
    "    ner = nlp.get_pipe('ner')\n",
    "\n",
    "# Add the new label to ner\n",
    "for i in LABEL:\n",
    "    ner.add_label(i)\n",
    "\n",
    "# Resume training\n",
    "if model is None:\n",
    "    optimizer = nlp.begin_training()\n",
    "else:\n",
    "    optimizer = nlp.entity.create_optimizer()\n",
    "    move_names = list(ner.move_names)\n",
    "\n",
    "# List of pipes you want to train\n",
    "pipe_exceptions = [\"ner\", \"trf_wordpiecer\", \"trf_tok2vec\"]\n",
    "\n",
    "# List of pipes which should remain unaffected in training\n",
    "other_pipes = [pipe for pipe in nlp.pipe_names if pipe not in pipe_exceptions]\n"
   ]
  },
  {
   "cell_type": "code",
   "execution_count": 5,
   "metadata": {},
   "outputs": [],
   "source": [
    "# Importing requirements\n",
    "from spacy.util import minibatch, compounding\n",
    "from spacy.training.example import Example\n",
    "import random"
   ]
  },
  {
   "cell_type": "code",
   "execution_count": 6,
   "metadata": {},
   "outputs": [
    {
     "name": "stdout",
     "output_type": "stream",
     "text": [
      "Losses {'ner': 19078.004019477565}\n",
      "Losses {'ner': 15225.171329901244}\n",
      "Losses {'ner': 14759.985806808134}\n",
      "Losses {'ner': 14614.118398110262}\n",
      "Losses {'ner': 14420.400937770713}\n",
      "Losses {'ner': 14260.926852648141}\n",
      "Losses {'ner': 14177.790920692327}\n",
      "Losses {'ner': 14218.117819534533}\n",
      "Losses {'ner': 14147.217091704444}\n",
      "Losses {'ner': 14096.440869518547}\n",
      "Losses {'ner': 14021.705497496301}\n",
      "Losses {'ner': 14122.238242318987}\n",
      "Losses {'ner': 14180.485968848921}\n",
      "Losses {'ner': 14362.280625235211}\n",
      "Losses {'ner': 14441.846285267391}\n",
      "Losses {'ner': 14505.60390034982}\n",
      "Losses {'ner': 14596.388501769861}\n",
      "Losses {'ner': 14637.272528973064}\n",
      "Losses {'ner': 14599.315565408173}\n",
      "Losses {'ner': 14811.655697095657}\n",
      "Losses {'ner': 14760.853716921243}\n",
      "Losses {'ner': 14741.876350499833}\n",
      "Losses {'ner': 14749.435829107053}\n",
      "Losses {'ner': 14752.786531331261}\n",
      "Losses {'ner': 14859.37415949061}\n",
      "Losses {'ner': 14710.879137070719}\n",
      "Losses {'ner': 15036.256068015826}\n",
      "Losses {'ner': 14948.822378814615}\n",
      "Losses {'ner': 14943.678960235457}\n",
      "Losses {'ner': 14859.051451525735}\n",
      "Losses {'ner': 14908.744737620673}\n",
      "Losses {'ner': 14710.982346911795}\n",
      "Losses {'ner': 14778.976157895964}\n",
      "Losses {'ner': 14642.929031704052}\n",
      "Losses {'ner': 14735.852132958775}\n",
      "Losses {'ner': 14590.519970956962}\n",
      "Losses {'ner': 14552.779403278773}\n",
      "Losses {'ner': 14777.388861903064}\n",
      "Losses {'ner': 14805.862679763}\n",
      "Losses {'ner': 14842.039252382963}\n",
      "Losses {'ner': 14873.446465292158}\n",
      "Losses {'ner': 14827.569830593186}\n",
      "Losses {'ner': 14916.663298243559}\n",
      "Losses {'ner': 14847.669733539622}\n",
      "Losses {'ner': 14680.567314056801}\n",
      "Losses {'ner': 14622.450646440104}\n",
      "Losses {'ner': 14643.156507515916}\n",
      "Losses {'ner': 14615.249695209255}\n",
      "Losses {'ner': 14497.036658759936}\n",
      "Losses {'ner': 14532.786860076863}\n"
     ]
    }
   ],
   "source": [
    "# Begin training by disabling other pipeline components\n",
    "with nlp.disable_pipes(*other_pipes):  # since only training NER\n",
    "    for itn in range(n_iter):\n",
    "        random.shuffle(TRAIN_DATA)\n",
    "        losses = {}\n",
    "        batches = minibatch(TRAIN_DATA, size=compounding(1.0, 16.0, 1.001))\n",
    "        for batch in batches:\n",
    "            texts, annotations = zip(*batch)\n",
    "            example = []\n",
    "            # Update the model with iterating each text\n",
    "            for i in range(len(texts)):\n",
    "                doc = nlp.make_doc(texts[i])\n",
    "                example.append(Example.from_dict(doc, annotations[i]))\n",
    "            \n",
    "            # Update the model\n",
    "            nlp.update(example, sgd=optimizer, drop=0.35,\n",
    "                       losses=losses)\n",
    "        print('Losses', losses)"
   ]
  },
  {
   "cell_type": "code",
   "execution_count": 7,
   "metadata": {},
   "outputs": [],
   "source": [
    "# Output directory\n",
    "from pathlib import Path\n",
    "#output_dir= os.getcwd() + r'\\Models'\n",
    "output_dir = Path('NER\\Models\\Custom_NER_Model')"
   ]
  },
  {
   "cell_type": "code",
   "execution_count": 8,
   "metadata": {},
   "outputs": [
    {
     "name": "stdout",
     "output_type": "stream",
     "text": [
      "Saved model to NER\\Models\\Custom_NER_Model\n"
     ]
    }
   ],
   "source": [
    "# Saving the model to the output directory\n",
    "if not output_dir.exists():\n",
    "  output_dir.mkdir()\n",
    "nlp.meta['name'] = 'cus_ner'  # rename model\n",
    "nlp.to_disk(output_dir)\n",
    "print(\"Saved model to\", output_dir)"
   ]
  },
  {
   "cell_type": "code",
   "execution_count": null,
   "metadata": {},
   "outputs": [],
   "source": []
  }
 ],
 "metadata": {
  "kernelspec": {
   "display_name": "Python 3",
   "language": "python",
   "name": "python3"
  },
  "language_info": {
   "codemirror_mode": {
    "name": "ipython",
    "version": 3
   },
   "file_extension": ".py",
   "mimetype": "text/x-python",
   "name": "python",
   "nbconvert_exporter": "python",
   "pygments_lexer": "ipython3",
   "version": "3.7.7"
  }
 },
 "nbformat": 4,
 "nbformat_minor": 2
}
