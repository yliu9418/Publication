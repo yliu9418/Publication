{
 "cells": [
  {
   "cell_type": "code",
   "execution_count": 2,
   "metadata": {},
   "outputs": [],
   "source": [
    "import praw\n",
    "import pandas as pd\n",
    "import datetime as dt\n",
    "import time\n",
    "import os\n",
    "from psaw import PushshiftAPI\n"
   ]
  },
  {
   "cell_type": "code",
   "execution_count": 3,
   "metadata": {},
   "outputs": [],
   "source": [
    "reddit = praw.Reddit(client_id= 'fOfCXb7j27Tf-g', client_secret='JlVZcKlg3WF_I_WxObPHdjVA0wA',\n",
    "                     password='Ncat123', user_agent='NCAT_NLP1v1',\n",
    "                     username='NCAT_NLP')"
   ]
  },
  {
   "cell_type": "code",
   "execution_count": 27,
   "metadata": {},
   "outputs": [],
   "source": [
    "api = PushshiftAPI(reddit)\n",
    "#query = 'asians | Asian%20American | asian%20people | asian%20person'\n",
    "query = 'blacks|African%20American|black%20people| black%20person'\n",
    "start_epoch=int(dt.datetime(2020, 3, 1).timestamp())\n",
    "end_epoch = int(dt.datetime(2020, 12, 31).timestamp())\n",
    "subred_list = ['houston']\n"
   ]
  },
  {
   "cell_type": "code",
   "execution_count": 5,
   "metadata": {},
   "outputs": [],
   "source": [
    "#results = api.search_comments(q=query, subreddit='NYC')\n",
    "\n",
    "def getData(sName):\n",
    "    results = api.search_comments( q=query, after=start_epoch, before=end_epoch, subreddit=sName)\n",
    "    max_response_cache = 10000\n",
    "    cache = []\n",
    "    ID = []\n",
    "    for c in results:\n",
    "        #if c.submission not in ID:\n",
    "            #ID.append(c.submission)\n",
    "        cache.append(c)\n",
    "                 \n",
    "    return cache\n",
    "\n",
    "#print(c.submission)\n"
   ]
  },
  {
   "cell_type": "code",
   "execution_count": 5,
   "metadata": {},
   "outputs": [],
   "source": [
    "from praw.models import MoreComments"
   ]
  },
  {
   "cell_type": "code",
   "execution_count": 6,
   "metadata": {},
   "outputs": [],
   "source": [
    "def convert_date(created):\n",
    "    date_time = dt.datetime.fromtimestamp(created)\n",
    "    return date_time.strftime(\"%m/%d/%Y\")"
   ]
  },
  {
   "cell_type": "code",
   "execution_count": 28,
   "metadata": {},
   "outputs": [],
   "source": [
    "def saveResults(sub_list,sName):\n",
    "    commentData = []\n",
    "    for comment in sub_list:\n",
    "        #comments = []\n",
    "        #sub = reddit.submission(id = comment.submission)\n",
    "        #sub.comments.replace_more(None)\n",
    "        #for comment in sub.comments.list():\n",
    "            #comments.append(comment.body)\n",
    "        commentData.append([comment.submission.created_utc, comment.submission.title, comment.body ,comment.submission.num_comments ])\n",
    "    commentData = pd.DataFrame(commentData,columns=['Date','submission title', 'comments', '# of comments'])\n",
    "    commentData['Date'] = commentData['Date'].apply(convert_date) \n",
    "    commentData.sort_values('Date', inplace = True, ascending = False)\n",
    "    #commentData.drop_duplicates(subset =\"submission title\", keep = 'first', inplace = True)\n",
    "    commentData.to_csv(os.getcwd() + r'/reddit_data/blacks_post_HOU.csv', index=False, encoding=\"utf-8\")"
   ]
  },
  {
   "cell_type": "code",
   "execution_count": 29,
   "metadata": {},
   "outputs": [],
   "source": [
    "for i in subred_list:\n",
    "    saveResults(getData(i),i)"
   ]
  },
  {
   "cell_type": "code",
   "execution_count": null,
   "metadata": {},
   "outputs": [],
   "source": []
  }
 ],
 "metadata": {
  "kernelspec": {
   "display_name": "Python 3",
   "language": "python",
   "name": "python3"
  },
  "language_info": {
   "codemirror_mode": {
    "name": "ipython",
    "version": 3
   },
   "file_extension": ".py",
   "mimetype": "text/x-python",
   "name": "python",
   "nbconvert_exporter": "python",
   "pygments_lexer": "ipython3",
   "version": "3.7.7"
  }
 },
 "nbformat": 4,
 "nbformat_minor": 2
}
