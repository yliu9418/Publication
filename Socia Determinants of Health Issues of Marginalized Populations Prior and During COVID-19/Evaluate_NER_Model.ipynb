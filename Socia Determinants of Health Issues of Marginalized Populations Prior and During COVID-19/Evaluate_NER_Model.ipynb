{
 "cells": [
  {
   "cell_type": "code",
   "execution_count": 22,
   "metadata": {},
   "outputs": [],
   "source": [
    "import os\n",
    "import spacy\n",
    "from spacy.scorer import Scorer\n",
    "from spacy.training import Example\n",
    "from spacy.tokens import Doc\n",
    "import pickle"
   ]
  },
  {
   "cell_type": "code",
   "execution_count": 2,
   "metadata": {},
   "outputs": [],
   "source": [
    "os.chdir('../')"
   ]
  },
  {
   "cell_type": "code",
   "execution_count": 31,
   "metadata": {},
   "outputs": [],
   "source": [
    "from pathlib import Path\n",
    "out_dir= Path(os.getcwd() + r'\\NER\\Models\\Custom_NER_Model')\n",
    "in_file = '/NER/sentence_samples/tsv/evaluation_1.p'"
   ]
  },
  {
   "cell_type": "code",
   "execution_count": 32,
   "metadata": {},
   "outputs": [],
   "source": [
    "def Eval(in_file,out_dir):\n",
    "    # Evaluate the saved model\n",
    "    print(\"Loading from\", out_dir)\n",
    "    nlp = spacy.load(out_dir)\n",
    "    \n",
    "    with open (os.getcwd() +  r'%s'%in_file, 'rb') as fp:\n",
    "        Valid_data = pickle.load(fp)\n",
    "    \n",
    "    scorer = Scorer()\n",
    "    examples = []\n",
    "\n",
    "\n",
    "    for text, annots in Valid_data:\n",
    "        doc = nlp.make_doc(text)\n",
    "        example=Example.from_dict(doc, annots)\n",
    "        example.predicted = nlp(str(example.predicted))\n",
    "        examples.append(example)\n",
    "    print(scorer.score(examples))\n",
    "\n",
    "    #print(scorer.score)\n",
    "    \n"
   ]
  },
  {
   "cell_type": "code",
   "execution_count": 34,
   "metadata": {},
   "outputs": [
    {
     "name": "stdout",
     "output_type": "stream",
     "text": [
      "Loading from C:\\Users\\clwhitfield\\Documents\\Classes\\Dissertation\\NER\\Models\\Custom_NER_Model\n",
      "{'token_acc': 1.0, 'token_p': 1.0, 'token_r': 1.0, 'token_f': 1.0, 'sents_p': 1.0, 'sents_r': 1.0, 'sents_f': 1.0, 'tag_acc': None, 'pos_acc': None, 'morph_acc': None, 'morph_micro_p': None, 'morph_micro_r': None, 'morph_micro_f': None, 'morph_per_feat': None, 'dep_uas': None, 'dep_las': None, 'dep_las_per_type': None, 'ents_p': 0.9163123620903073, 'ents_r': 0.9949742870500233, 'ents_f': 0.9540245986608018, 'ents_per_type': {'RETH': {'p': 0.9259788400648699, 'r': 0.9968822746923844, 'f': 0.9601233134483724}, 'SCC': {'p': 0.9006764560303581, 'r': 0.9918241279069767, 'f': 0.9440553393860787}, 'ECON': {'p': 0.8676333021515436, 'r': 0.9820010587612493, 'f': 0.9212813508815496}, 'EDU': {'p': 0.9179575444635686, 'r': 0.9925558312655087, 'f': 0.9538002980625931}, 'NBE': {'p': 0.8751891074130106, 'r': 0.9948409286328461, 'f': 0.9311871227364185}}, 'cats_score': 0.0, 'cats_score_desc': 'macro F', 'cats_micro_p': 0.0, 'cats_micro_r': 0.0, 'cats_micro_f': 0.0, 'cats_macro_p': 0.0, 'cats_macro_r': 0.0, 'cats_macro_f': 0.0, 'cats_macro_auc': 0.0, 'cats_f_per_type': {}, 'cats_auc_per_type': {}}\n"
     ]
    }
   ],
   "source": [
    "Eval(in_file,out_dir)"
   ]
  },
  {
   "cell_type": "code",
   "execution_count": 30,
   "metadata": {},
   "outputs": [
    {
     "name": "stdout",
     "output_type": "stream",
     "text": [
      "Loading from C:\\Users\\clwhitfield\\Documents\\Classes\\Dissertation\\NER\\Models\n",
      "{'token_acc': 1.0, 'token_p': 1.0, 'token_r': 1.0, 'token_f': 1.0, 'sents_p': 1.0, 'sents_r': 1.0, 'sents_f': 1.0, 'tag_acc': None, 'pos_acc': None, 'morph_acc': None, 'morph_micro_p': None, 'morph_micro_r': None, 'morph_micro_f': None, 'morph_per_feat': None, 'dep_uas': None, 'dep_las': None, 'dep_las_per_type': None, 'ents_p': 0.8830346868321551, 'ents_r': 0.9885286630064718, 'ents_f': 0.932808497706256, 'ents_per_type': {'RETH': {'p': 0.8768502072232089, 'r': 0.9911216204158115, 'f': 0.9304906909045215}, 'SCC': {'p': 0.9022719679251587, 'r': 0.9784420289855073, 'f': 0.938814531548757}, 'ECON': {'p': 0.8761726078799249, 'r': 0.986272439281943, 'f': 0.9279682066567312}, 'EDU': {'p': 0.9165227403569373, 'r': 0.9875930521091811, 'f': 0.9507315616601971}, 'NBE': {'p': 0.8814984709480123, 'r': 0.9914015477214101, 'f': 0.933225414811817}}, 'cats_score': 0.0, 'cats_score_desc': 'macro F', 'cats_micro_p': 0.0, 'cats_micro_r': 0.0, 'cats_micro_f': 0.0, 'cats_macro_p': 0.0, 'cats_macro_r': 0.0, 'cats_macro_f': 0.0, 'cats_macro_auc': 0.0, 'cats_f_per_type': {}, 'cats_auc_per_type': {}}\n"
     ]
    }
   ],
   "source": [
    "Eval(in_file,out_dir)"
   ]
  },
  {
   "cell_type": "code",
   "execution_count": null,
   "metadata": {},
   "outputs": [],
   "source": [
    "scores = Scorer.score_tokenization(examples)\n",
    "\n",
    "Eval(in_file,out_dir)"
   ]
  },
  {
   "cell_type": "code",
   "execution_count": null,
   "metadata": {},
   "outputs": [],
   "source": [
    "        for input_, annot in examples:\n",
    "            doc_gold_text = ner_model.make_doc(input_)\n",
    "            gold = GoldParse(doc_gold_text, entities=annot['entities'])\n",
    "            pred_value = ner_model(input_)\n",
    "            scorer.score(pred_value, gold)"
   ]
  }
 ],
 "metadata": {
  "kernelspec": {
   "display_name": "Python 3",
   "language": "python",
   "name": "python3"
  },
  "language_info": {
   "codemirror_mode": {
    "name": "ipython",
    "version": 3
   },
   "file_extension": ".py",
   "mimetype": "text/x-python",
   "name": "python",
   "nbconvert_exporter": "python",
   "pygments_lexer": "ipython3",
   "version": "3.7.7"
  }
 },
 "nbformat": 4,
 "nbformat_minor": 4
}
