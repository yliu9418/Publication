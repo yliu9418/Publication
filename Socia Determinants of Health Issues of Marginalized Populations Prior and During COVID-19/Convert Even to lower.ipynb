{
 "cells": [
  {
   "cell_type": "code",
   "execution_count": 10,
   "metadata": {},
   "outputs": [],
   "source": [
    "import pandas as pd\n",
    "import numpy as np\n",
    "import os\n",
    "import spacy\n",
    "import re, string, unicodedata"
   ]
  },
  {
   "cell_type": "code",
   "execution_count": 2,
   "metadata": {},
   "outputs": [],
   "source": [
    "os.chdir('../')"
   ]
  },
  {
   "cell_type": "code",
   "execution_count": 3,
   "metadata": {},
   "outputs": [],
   "source": [
    "train_eval = ['evaluation','training']"
   ]
  },
  {
   "cell_type": "code",
   "execution_count": 8,
   "metadata": {},
   "outputs": [],
   "source": [
    "def even_to_lower(te):\n",
    "    lines = []\n",
    "    with open(os.getcwd() + r'/data/sentence_samples/keywords/%s/%s.txt'%(te,te)) as file_in:\n",
    "        for line in file_in:\n",
    "            lines.append(line)\n",
    "    #print ('The total number of lines in %s is %s'%(kw,len(lines)))\n",
    "    df = pd.DataFrame(lines,columns=['sents'])\n",
    "    df.style.set_properties(subset=[\"sents\"], **{'text-align': 'left'})\n",
    "    df.sents = df.sents.apply(str).astype('U').values\n",
    "    df.sents = np.where(df.index % 2,df.sents.str.lower(),df.sents)\n",
    "    with open(os.getcwd() + r'/data/sentence_samples/keywords/%s/%s_1.txt'%(te,te), 'w') as f:\n",
    "        np.savetxt(f,df.sents, fmt='%s', newline='')"
   ]
  },
  {
   "cell_type": "code",
   "execution_count": 9,
   "metadata": {},
   "outputs": [],
   "source": [
    "for i in train_eval:\n",
    "    even_to_lower(i)"
   ]
  },
  {
   "cell_type": "code",
   "execution_count": null,
   "metadata": {},
   "outputs": [],
   "source": []
  }
 ],
 "metadata": {
  "kernelspec": {
   "display_name": "Python 3",
   "language": "python",
   "name": "python3"
  },
  "language_info": {
   "codemirror_mode": {
    "name": "ipython",
    "version": 3
   },
   "file_extension": ".py",
   "mimetype": "text/x-python",
   "name": "python",
   "nbconvert_exporter": "python",
   "pygments_lexer": "ipython3",
   "version": "3.7.7"
  }
 },
 "nbformat": 4,
 "nbformat_minor": 4
}
